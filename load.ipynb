{
 "cells": [
  {
   "cell_type": "code",
   "execution_count": 2,
   "metadata": {},
   "outputs": [],
   "source": [
    "from dotenv import load_dotenv\n",
    "import os\n",
    "from pinecone import Pinecone, ServerlessSpec\n",
    "from huggingface_hub import InferenceClient"
   ]
  },
  {
   "cell_type": "code",
   "execution_count": 14,
   "metadata": {},
   "outputs": [
    {
     "data": {
      "text/plain": [
       "True"
      ]
     },
     "execution_count": 14,
     "metadata": {},
     "output_type": "execute_result"
    }
   ],
   "source": [
    "load_dotenv()"
   ]
  },
  {
   "cell_type": "code",
   "execution_count": 26,
   "metadata": {},
   "outputs": [],
   "source": [
    "pc = Pinecone(api_key=os.getenv(\"PINECONE_API_KEY\"))"
   ]
  },
  {
   "cell_type": "code",
   "execution_count": 11,
   "metadata": {},
   "outputs": [],
   "source": [
    "pc.create_index(\n",
    "    name='rag', \n",
    "    dimension=1024, # dimension needs to be the same as the embedding output dimension\n",
    "    metric='cosine', \n",
    "    spec=ServerlessSpec(cloud='aws', region='us-east-1')\n",
    ")"
   ]
  },
  {
   "cell_type": "code",
   "execution_count": 21,
   "metadata": {},
   "outputs": [
    {
     "data": {
      "text/plain": [
       "[{'professor': 'Dr. Sarah Johnson',\n",
       "  'subject': 'Introduction to Psychology',\n",
       "  'stars': 5,\n",
       "  'review': 'Dr. Johnson is an amazing professor! Her lectures are engaging and she genuinely cares about her students.'},\n",
       " {'professor': 'Prof. Michael Lee',\n",
       "  'subject': 'Calculus I',\n",
       "  'stars': 3,\n",
       "  'review': 'The material is tough, but Prof. Lee explains it well. The grading is fair, but the tests are difficult.'},\n",
       " {'professor': 'Dr. Emily Brown',\n",
       "  'subject': 'Organic Chemistry',\n",
       "  'stars': 4,\n",
       "  'review': 'Dr. Brown is very knowledgeable, and her labs are well-organized. The course is challenging, but she offers a lot of help.'},\n",
       " {'professor': 'Prof. John Smith',\n",
       "  'subject': 'World History',\n",
       "  'stars': 2,\n",
       "  'review': \"Prof. Smith's lectures are dry, and the readings are overwhelming. The exams are also too detailed.\"},\n",
       " {'professor': 'Dr. Alice Wang',\n",
       "  'subject': 'Data Structures',\n",
       "  'stars': 5,\n",
       "  'review': 'Dr. Wang is the best! Her explanations are clear, and she makes complex topics easy to understand.'},\n",
       " {'professor': 'Prof. David Martinez',\n",
       "  'subject': 'Microeconomics',\n",
       "  'stars': 3,\n",
       "  'review': 'Prof. Martinez is decent, but his lectures can be a bit monotonous. The assignments are straightforward though.'},\n",
       " {'professor': 'Dr. Jane Doe',\n",
       "  'subject': 'Literary Analysis',\n",
       "  'stars': 4,\n",
       "  'review': 'Dr. Doe is very passionate about literature. She encourages deep thinking and class discussions are always interesting.'},\n",
       " {'professor': 'Prof. Richard Adams',\n",
       "  'subject': 'Physics II',\n",
       "  'stars': 1,\n",
       "  'review': 'Prof. Adams is very difficult to follow. His lectures are all over the place and the tests are extremely hard.'},\n",
       " {'professor': \"Dr. Megan O'Connor\",\n",
       "  'subject': 'Sociology 101',\n",
       "  'stars': 5,\n",
       "  'review': \"Dr. O'Connor is fantastic! She's approachable, and her lectures are thought-provoking.\"},\n",
       " {'professor': 'Prof. Brian Stevens',\n",
       "  'subject': 'Political Science',\n",
       "  'stars': 3,\n",
       "  'review': 'Prof. Stevens is knowledgeable, but his classes can be dull. The exams are fair, but not easy.'},\n",
       " {'professor': 'Dr. Patricia Evans',\n",
       "  'subject': 'Molecular Biology',\n",
       "  'stars': 4,\n",
       "  'review': 'Dr. Evans is very organized and clear. The material is tough, but she provides a lot of support.'},\n",
       " {'professor': 'Prof. Charles Green',\n",
       "  'subject': 'Statistics',\n",
       "  'stars': 2,\n",
       "  'review': \"Prof. Green's lectures are confusing, and he doesn't explain concepts well. The textbook is more helpful.\"},\n",
       " {'professor': 'Dr. Laura White',\n",
       "  'subject': 'Modern Art History',\n",
       "  'stars': 5,\n",
       "  'review': \"Dr. White's passion for art is contagious. Her classes are engaging, and she makes learning enjoyable.\"},\n",
       " {'professor': 'Prof. Robert Harris',\n",
       "  'subject': 'Computer Networks',\n",
       "  'stars': 4,\n",
       "  'review': 'Prof. Harris knows his stuff. The class is challenging, but you learn a lot if you put in the effort.'},\n",
       " {'professor': 'Dr. Samantha Taylor',\n",
       "  'subject': 'Environmental Science',\n",
       "  'stars': 3,\n",
       "  'review': \"Dr. Taylor's class is interesting, but her grading is tough. The projects are informative, though.\"},\n",
       " {'professor': 'Prof. Anthony King',\n",
       "  'subject': 'Ethics in Technology',\n",
       "  'stars': 5,\n",
       "  'review': \"Prof. King is amazing! He encourages debates and critical thinking. One of the best courses I've taken.\"},\n",
       " {'professor': 'Dr. Linda Roberts',\n",
       "  'subject': 'Macroeconomics',\n",
       "  'stars': 2,\n",
       "  'review': \"Dr. Roberts is knowledgeable, but her teaching style is too fast-paced. It's hard to keep up.\"},\n",
       " {'professor': 'Prof. George Clark',\n",
       "  'subject': 'Philosophy of Mind',\n",
       "  'stars': 4,\n",
       "  'review': 'Prof. Clark is a great lecturer. He makes complex ideas accessible, but the readings are heavy.'},\n",
       " {'professor': 'Dr. Angela Davis',\n",
       "  'subject': 'Genetics',\n",
       "  'stars': 3,\n",
       "  'review': 'Dr. Davis is good, but her exams are tricky. You really need to study hard to do well.'},\n",
       " {'professor': 'Prof. William Scott',\n",
       "  'subject': 'Introduction to Business',\n",
       "  'stars': 5,\n",
       "  'review': \"Prof. Scott's class is incredibly practical. His real-world examples make the course material come alive.\"}]"
      ]
     },
     "execution_count": 21,
     "metadata": {},
     "output_type": "execute_result"
    }
   ],
   "source": [
    "import json\n",
    "data = json.load(open('reviews.json'))\n",
    "data['reviews']"
   ]
  },
  {
   "cell_type": "code",
   "execution_count": 18,
   "metadata": {},
   "outputs": [],
   "source": [
    "client = InferenceClient(model='WhereIsAI/UAE-Large-V1', token=os.getenv(\"HF_TOKEN\"))"
   ]
  },
  {
   "cell_type": "code",
   "execution_count": 22,
   "metadata": {},
   "outputs": [],
   "source": [
    "processed_data=[]\n",
    "# the following structure is specific for Hugging Face Inference API and Pinecone,\n",
    "# needs to be modified if switch to other embedding model and/or vector database\n",
    "for review in data['reviews']:\n",
    "    embedding = client.feature_extraction(review['review'])\n",
    "    processed_data.append({\n",
    "        'values': embedding,\n",
    "        'id': review['professor'],\n",
    "        'metadata': {\n",
    "            'review': review['review'],\n",
    "            'subject': review['subject'],\n",
    "            'stars': review['stars']\n",
    "        }\n",
    "    })"
   ]
  },
  {
   "cell_type": "code",
   "execution_count": 23,
   "metadata": {},
   "outputs": [
    {
     "data": {
      "text/plain": [
       "{'values': array([-0.02360744,  0.70602494, -0.06913628, ...,  0.52790743,\n",
       "         0.1484503 ,  0.3966465 ], dtype=float32),\n",
       " 'id': 'Dr. Sarah Johnson',\n",
       " 'metadata': {'review': 'Dr. Johnson is an amazing professor! Her lectures are engaging and she genuinely cares about her students.',\n",
       "  'subject': 'Introduction to Psychology',\n",
       "  'stars': 5}}"
      ]
     },
     "execution_count": 23,
     "metadata": {},
     "output_type": "execute_result"
    }
   ],
   "source": [
    "processed_data[0]"
   ]
  },
  {
   "cell_type": "code",
   "execution_count": 24,
   "metadata": {},
   "outputs": [
    {
     "data": {
      "text/plain": [
       "1024"
      ]
     },
     "execution_count": 24,
     "metadata": {},
     "output_type": "execute_result"
    }
   ],
   "source": [
    "len(processed_data[0]['values'])"
   ]
  },
  {
   "cell_type": "code",
   "execution_count": 27,
   "metadata": {},
   "outputs": [
    {
     "data": {
      "text/plain": [
       "{'upserted_count': 20}"
      ]
     },
     "execution_count": 27,
     "metadata": {},
     "output_type": "execute_result"
    }
   ],
   "source": [
    "# convert to Firebase language, Index=collection, namespace=document\n",
    "index = pc.Index('rag')\n",
    "index.upsert(\n",
    "    vectors=processed_data,\n",
    "    namespace='ns1' \n",
    ")"
   ]
  },
  {
   "cell_type": "code",
   "execution_count": 28,
   "metadata": {},
   "outputs": [
    {
     "data": {
      "text/plain": [
       "{'dimension': 1024,\n",
       " 'index_fullness': 0.0,\n",
       " 'namespaces': {'ns1': {'vector_count': 20}},\n",
       " 'total_vector_count': 20}"
      ]
     },
     "execution_count": 28,
     "metadata": {},
     "output_type": "execute_result"
    }
   ],
   "source": [
    "index.describe_index_stats()"
   ]
  }
 ],
 "metadata": {
  "kernelspec": {
   "display_name": "rag",
   "language": "python",
   "name": "python3"
  },
  "language_info": {
   "codemirror_mode": {
    "name": "ipython",
    "version": 3
   },
   "file_extension": ".py",
   "mimetype": "text/x-python",
   "name": "python",
   "nbconvert_exporter": "python",
   "pygments_lexer": "ipython3",
   "version": "3.10.13"
  }
 },
 "nbformat": 4,
 "nbformat_minor": 2
}
